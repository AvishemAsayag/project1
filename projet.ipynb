{
 "cells": [
  {
   "cell_type": "markdown",
   "id": "edfec77f-9de8-4796-84fb-b998ef824885",
   "metadata": {},
   "source": [
    "# Data Analysis Final project:\n",
    "\n",
    "# Group 21\n",
    "\n",
    "# Palestine-Israeli conflict \n",
    "\n",
    "###  Name of students:\n",
    "Omri pitchon<br>\n",
    "Avishem asayag\n",
    "\n",
    "\n",
    "<a id='top'></a>\n",
    "\n",
    "<div>\n",
    "<img src=\"https://github.com/AvishemAsayag/project1/blob/main/%D7%AA%D7%9E%D7%95%D7%A0%D7%94%20%D7%93%D7%92%D7%9C%D7%99%D7%9D.png\" width=\"650\"/>\n",
    "</div>"
   ]
  },
  {
   "cell_type": "markdown",
   "id": "073c54e5-a427-4233-93b5-2a94307ff1b9",
   "metadata": {},
   "source": [
    "!pip install geopandas\n",
    "!pip install folium\n",
    "import pandas as pd\n",
    "import seaborn as sns\n",
    "import geopandas as gpd\n",
    "import matplotlib.pyplot as plt\n",
    "import numpy as np\n",
    "import requests\n",
    "from IPython.display import Image"
   ]
  },
  {
   "cell_type": "code",
   "execution_count": null,
   "id": "f560e6d5-5d89-48d7-ab64-7a15d748c0fa",
   "metadata": {},
   "outputs": [],
   "source": []
  },
  {
   "cell_type": "code",
   "execution_count": null,
   "id": "3879458c-5e39-4988-a6f9-298e4d13843d",
   "metadata": {},
   "outputs": [],
   "source": []
  },
  {
   "cell_type": "code",
   "execution_count": null,
   "id": "8bb52143-f01f-45f6-9778-10daa52e7fba",
   "metadata": {},
   "outputs": [],
   "source": []
  },
  {
   "cell_type": "code",
   "execution_count": 6,
   "id": "4e99a865-f995-4a5f-9863-15c9ada8a00a",
   "metadata": {},
   "outputs": [
    {
     "data": {
      "text/plain": [
       "(18090, 28)"
      ]
     },
     "execution_count": 6,
     "metadata": {},
     "output_type": "execute_result"
    }
   ],
   "source": [
    "url = 'https://raw.githubusercontent.com/AvishemAsayag/project1/main/2023-10-01-2024-01-29-Middle_East-Israel-Palestine.csv'\n",
    "GOTR_DF = pd.read_csv(url)\n",
    "GOTR_DF.shape"
   ]
  },
  {
   "cell_type": "markdown",
   "id": "80bc2722-2603-4f58-a196-570e6b9e2ad8",
   "metadata": {},
   "source": []
  },
  {
   "cell_type": "code",
   "execution_count": null,
   "id": "adff4c8a-9723-4a03-9b6f-d8ec7470660c",
   "metadata": {},
   "outputs": [],
   "source": []
  }
 ],
 "metadata": {
  "kernelspec": {
   "display_name": "Python 3 (ipykernel)",
   "language": "python",
   "name": "python3"
  },
  "language_info": {
   "codemirror_mode": {
    "name": "ipython",
    "version": 3
   },
   "file_extension": ".py",
   "mimetype": "text/x-python",
   "name": "python",
   "nbconvert_exporter": "python",
   "pygments_lexer": "ipython3",
   "version": "3.10.9"
  }
 },
 "nbformat": 4,
 "nbformat_minor": 5
}
