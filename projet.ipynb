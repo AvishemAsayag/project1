{
 "cells": [
  {
   "cell_type": "markdown",
   "id": "edfec77f-9de8-4796-84fb-b998ef824885",
   "metadata": {},
   "source": [
    "# Data Analysis Final project:\n",
    "\n",
    "# Group 21\n",
    "\n",
    "# Palestine-Israeli conflict \n",
    "\n",
    "###  Name of students:\n",
    "Omri pitchon<br>\n",
    "Avishem asayag\n",
    "\n",
    "\n",
    "<a id='top'></a>\n",
    "\n",
    "<div>\n",
    "<img src=\"https://github.com/AvishemAsayag/project1/blob/main/%D7%AA%D7%9E%D7%95%D7%A0%D7%94%20%D7%93%D7%92%D7%9C%D7%99%D7%9D.png\" width=\"650\"/>\n",
    "</div>"
   ]
  },
  {
   "cell_type": "code",
   "execution_count": 10,
   "id": "072f0628-252b-4895-9181-3c606d5b4222",
   "metadata": {},
   "outputs": [
    {
     "name": "stdout",
     "output_type": "stream",
     "text": [
      "Requirement already satisfied: geopandas in c:\\users\\97252\\anaconda3\\lib\\site-packages (0.14.3)\n",
      "Requirement already satisfied: fiona>=1.8.21 in c:\\users\\97252\\anaconda3\\lib\\site-packages (from geopandas) (1.9.5)\n",
      "Requirement already satisfied: packaging in c:\\users\\97252\\anaconda3\\lib\\site-packages (from geopandas) (22.0)\n",
      "Requirement already satisfied: pyproj>=3.3.0 in c:\\users\\97252\\anaconda3\\lib\\site-packages (from geopandas) (3.6.1)\n",
      "Requirement already satisfied: pandas>=1.4.0 in c:\\users\\97252\\anaconda3\\lib\\site-packages (from geopandas) (1.5.3)\n",
      "Requirement already satisfied: shapely>=1.8.0 in c:\\users\\97252\\anaconda3\\lib\\site-packages (from geopandas) (2.0.2)\n",
      "Requirement already satisfied: click-plugins>=1.0 in c:\\users\\97252\\anaconda3\\lib\\site-packages (from fiona>=1.8.21->geopandas) (1.1.1)\n",
      "Requirement already satisfied: click~=8.0 in c:\\users\\97252\\anaconda3\\lib\\site-packages (from fiona>=1.8.21->geopandas) (8.0.4)\n",
      "Requirement already satisfied: certifi in c:\\users\\97252\\anaconda3\\lib\\site-packages (from fiona>=1.8.21->geopandas) (2022.12.7)\n",
      "Requirement already satisfied: six in c:\\users\\97252\\anaconda3\\lib\\site-packages (from fiona>=1.8.21->geopandas) (1.16.0)\n",
      "Requirement already satisfied: setuptools in c:\\users\\97252\\anaconda3\\lib\\site-packages (from fiona>=1.8.21->geopandas) (65.6.3)\n",
      "Requirement already satisfied: attrs>=19.2.0 in c:\\users\\97252\\anaconda3\\lib\\site-packages (from fiona>=1.8.21->geopandas) (22.1.0)\n",
      "Requirement already satisfied: cligj>=0.5 in c:\\users\\97252\\anaconda3\\lib\\site-packages (from fiona>=1.8.21->geopandas) (0.7.2)\n",
      "Requirement already satisfied: python-dateutil>=2.8.1 in c:\\users\\97252\\anaconda3\\lib\\site-packages (from pandas>=1.4.0->geopandas) (2.8.2)\n",
      "Requirement already satisfied: pytz>=2020.1 in c:\\users\\97252\\anaconda3\\lib\\site-packages (from pandas>=1.4.0->geopandas) (2022.7)\n",
      "Requirement already satisfied: numpy>=1.21.0 in c:\\users\\97252\\anaconda3\\lib\\site-packages (from pandas>=1.4.0->geopandas) (1.23.5)\n",
      "Requirement already satisfied: colorama in c:\\users\\97252\\anaconda3\\lib\\site-packages (from click~=8.0->fiona>=1.8.21->geopandas) (0.4.6)\n",
      "Requirement already satisfied: folium in c:\\users\\97252\\anaconda3\\lib\\site-packages (0.15.1)\n",
      "Requirement already satisfied: jinja2>=2.9 in c:\\users\\97252\\anaconda3\\lib\\site-packages (from folium) (3.1.2)\n",
      "Requirement already satisfied: xyzservices in c:\\users\\97252\\anaconda3\\lib\\site-packages (from folium) (2023.10.1)\n",
      "Requirement already satisfied: branca>=0.6.0 in c:\\users\\97252\\anaconda3\\lib\\site-packages (from folium) (0.7.1)\n",
      "Requirement already satisfied: requests in c:\\users\\97252\\anaconda3\\lib\\site-packages (from folium) (2.28.1)\n",
      "Requirement already satisfied: numpy in c:\\users\\97252\\anaconda3\\lib\\site-packages (from folium) (1.23.5)\n",
      "Requirement already satisfied: MarkupSafe>=2.0 in c:\\users\\97252\\anaconda3\\lib\\site-packages (from jinja2>=2.9->folium) (2.1.1)\n",
      "Requirement already satisfied: idna<4,>=2.5 in c:\\users\\97252\\anaconda3\\lib\\site-packages (from requests->folium) (3.4)\n",
      "Requirement already satisfied: charset-normalizer<3,>=2 in c:\\users\\97252\\anaconda3\\lib\\site-packages (from requests->folium) (2.0.4)\n",
      "Requirement already satisfied: urllib3<1.27,>=1.21.1 in c:\\users\\97252\\anaconda3\\lib\\site-packages (from requests->folium) (1.26.14)\n",
      "Requirement already satisfied: certifi>=2017.4.17 in c:\\users\\97252\\anaconda3\\lib\\site-packages (from requests->folium) (2022.12.7)\n"
     ]
    }
   ],
   "source": [
    "!pip install geopandas\n",
    "!pip install folium\n",
    "import pandas as pd\n",
    "import seaborn as sns\n",
    "import geopandas as gpd\n",
    "import matplotlib.pyplot as plt\n",
    "import numpy as np\n",
    "import requests\n",
    "from IPython.display import Image"
   ]
  },
  {
   "cell_type": "code",
   "execution_count": null,
   "id": "f560e6d5-5d89-48d7-ab64-7a15d748c0fa",
   "metadata": {},
   "outputs": [],
   "source": []
  },
  {
   "cell_type": "code",
   "execution_count": null,
   "id": "3879458c-5e39-4988-a6f9-298e4d13843d",
   "metadata": {},
   "outputs": [],
   "source": []
  },
  {
   "cell_type": "code",
   "execution_count": null,
   "id": "8bb52143-f01f-45f6-9778-10daa52e7fba",
   "metadata": {},
   "outputs": [],
   "source": []
  },
  {
   "cell_type": "code",
   "execution_count": 24,
   "id": "4e99a865-f995-4a5f-9863-15c9ada8a00a",
   "metadata": {},
   "outputs": [
    {
     "data": {
      "text/plain": [
       "(18090, 28)"
      ]
     },
     "execution_count": 24,
     "metadata": {},
     "output_type": "execute_result"
    }
   ],
   "source": [
    "url = 'https://raw.githubusercontent.com/AvishemAsayag/project1/main/2023-10-01-2024-01-29-Middle_East-Israel-Palestine.csv'\n",
    "GOTR_DF = pd.read_csv(url)\n",
    "GOTR_DF.shape"
   ]
  },
  {
   "cell_type": "code",
   "execution_count": null,
   "id": "134a40f9-29f0-467b-8ab3-013cb5de7084",
   "metadata": {},
   "outputs": [],
   "source": []
  },
  {
   "cell_type": "code",
   "execution_count": null,
   "id": "adff4c8a-9723-4a03-9b6f-d8ec7470660c",
   "metadata": {},
   "outputs": [],
   "source": []
  }
 ],
 "metadata": {
  "kernelspec": {
   "display_name": "Python 3 (ipykernel)",
   "language": "python",
   "name": "python3"
  },
  "language_info": {
   "codemirror_mode": {
    "name": "ipython",
    "version": 3
   },
   "file_extension": ".py",
   "mimetype": "text/x-python",
   "name": "python",
   "nbconvert_exporter": "python",
   "pygments_lexer": "ipython3",
   "version": "3.10.9"
  }
 },
 "nbformat": 4,
 "nbformat_minor": 5
}
